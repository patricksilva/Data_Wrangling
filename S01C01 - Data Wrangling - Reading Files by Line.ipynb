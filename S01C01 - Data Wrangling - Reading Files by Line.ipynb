{
 "cells": [
  {
   "cell_type": "markdown",
   "metadata": {},
   "source": [
    "# Data Wrangling - Reading Files by Line"
   ]
  },
  {
   "cell_type": "markdown",
   "metadata": {},
   "source": [
    "#### Disclaimer: Code used in this notebook was tested in Python 2.7"
   ]
  },
  {
   "cell_type": "markdown",
   "metadata": {},
   "source": [
    "### Why read files by line?\n",
    "\n",
    "Validation.\n",
    "\n",
    "Have you ever received one large data file?\n",
    "\n",
    "What was inside it?\n",
    "\n",
    "Was it a bind of outputs from different scripts?\n",
    "\n",
    "If this is new to you, welcome to data wrangling universe!\n",
    "\n",
    "Prepare yourself for a long journey.\n",
    "\n",
    "We are going to deal with I/O, character encoding and basic programming tasks."
   ]
  },
  {
   "cell_type": "markdown",
   "metadata": {},
   "source": [
    "_\"It is good practice to use the with keyword when dealing with file objects. The advantage is that the file is properly closed after its suite finishes, even if an exception is raised at some point.\"_ [Python Documentation](https://docs.python.org/3/tutorial/inputoutput.html)"
   ]
  },
  {
   "cell_type": "code",
   "execution_count": null,
   "metadata": {
    "collapsed": false
   },
   "outputs": [],
   "source": [
    "#with open(r\"C:\\Users\\pasilva\\Documents\\Dados\\CSVs\\all_customers_20171102.csv\",\"r\", encoding=\"utf8\") as f:\n",
    "with open(r\"C:\\Users\\pasilva\\Documents\\Dados\\CSVs\\all_customers_20171102_1500.csv\",\"r\") as f:\n",
    "    read_data = f.read() # it’s your problem if the file is twice as large as your machine’s memory\n",
    "f.closed"
   ]
  },
  {
   "cell_type": "markdown",
   "metadata": {},
   "source": [
    "_\"For reading lines from a file, you can loop over the file object. This is memory efficient, fast, and leads to simple code:\"_  [Python Documentation](https://docs.python.org/3/tutorial/inputoutput.html)"
   ]
  },
  {
   "cell_type": "code",
   "execution_count": null,
   "metadata": {
    "collapsed": false
   },
   "outputs": [],
   "source": [
    "file_path = \"C:\\Users\\pasilva\\Documents\\Dados\\CSVs\"\n",
    "file_name = \"all_customers_20171102\"\n",
    "file_extension = \".csv\"\n",
    "import os.path\n",
    "fp_out  = os.path.join(file_path, file_name)\n",
    "\n",
    "print(fp_out)\n",
    "\n",
    "fp_in = os.path.join(file_path, file_name + file_extension)\n",
    "\n",
    "print(fp_in)"
   ]
  },
  {
   "cell_type": "code",
   "execution_count": null,
   "metadata": {
    "collapsed": true
   },
   "outputs": [],
   "source": [
    "if not os.path.exists(fp_out):\n",
    "    os.makedirs(fp_out)"
   ]
  },
  {
   "cell_type": "code",
   "execution_count": null,
   "metadata": {
    "collapsed": false
   },
   "outputs": [],
   "source": [
    "with open(fp_in,\"rb\") as f:\n",
    "    numberOfLines = 0\n",
    "    rowNum = 1;\n",
    "    out_sufix = '_'\n",
    "    \n",
    "    isOut_file_open = False\n",
    "    lines_for_out_f = []\n",
    "\n",
    "    for line in f:\n",
    "        if(len(line) < 10 and len(line) > 1):\n",
    "            ##print(\"---------------------------------- H 1\")\n",
    "            #print(\"Line Length: \" + str(len(line)))\n",
    "            ##print(\"Line Content: \" + line.strip()) # .strip() was used just for a clear output\n",
    "            ##print(\"Row number: \" + str(rowNum))\n",
    "            out_sufix += line.strip()\n",
    "            #print(\"Current out_sufix: \" + out_sufix)\n",
    "\n",
    "        if(line[0:8] == 'Servidor'):\n",
    "            ##print(\"-------------------------------------- H 2\")\n",
    "            ##print(\"Header length: \" + str(len(line)))\n",
    "            ##print(\"Row number: \" + str(rowNum))\n",
    "            with open(os.path.join(fp_out, file_name + '_headers_' + file_extension), \"a\") as out_f:\n",
    "                out_f.write(out_sufix.ljust(8) +';'+line)\n",
    "            out_f.close()\n",
    "        \n",
    "        if(len(line) > 10):\n",
    "            lines_for_out_f.append(line)\n",
    "\n",
    "        numberOfLines += 1\n",
    "\n",
    "        if(len(line) == 1):\n",
    "            print(\"------------------------------------------ H 3\")\n",
    "            print(numberOfLines)\n",
    "            numberOfLines = 0\n",
    "            print(\"Row number: \" + str(rowNum))\n",
    "            \n",
    "            with open(os.path.join(fp_out, file_name + out_sufix + file_extension), \"w\") as out_f:\n",
    "                out_f.writelines(lines_for_out_f)\n",
    "            out_f.close()\n",
    "            \n",
    "            print(\"Reset list of lines for out f:\")\n",
    "            lines_for_out_f = []\n",
    "            print(\"Reset out_sufix: ok\")\n",
    "            out_sufix = '_'\n",
    "            #print('----------------------------------------------------------------')\n",
    "        \n",
    "        if(isOut_file_open):\n",
    "            isOut_file_open = False\n",
    "        '''\n",
    "        if(f.tell == os.fstat(f.fileno()).st_size):\n",
    "            print(f.tell())\n",
    "            print(os.fstat(f.fileno()).st_size)\n",
    "        '''\n",
    "        \n",
    "        rowNum += 1\n",
    "        \n",
    "    print(\"Last row number: \" + str(rowNum))"
   ]
  },
  {
   "cell_type": "markdown",
   "metadata": {},
   "source": [
    "## References\n",
    "\n",
    "http://www.pythonforbeginners.com/files/reading-and-writing-files-in-python\n",
    "\n",
    "https://stackoverflow.com/questions/18276283/python-open-file-unicode-error\n",
    "\n",
    "https://stackoverflow.com/questions/28463053/python-3-unicode-to-utf-8-on-file\n",
    "\n",
    "https://stackoverflow.com/questions/12468179/unicodedecodeerror-utf8-codec-cant-decode-byte-0x9c\n",
    "\n",
    "https://docs.python.org/3/tutorial/inputoutput.html\n",
    "\n",
    "https://stackoverflow.com/questions/1485841/behaviour-of-increment-and-decrement-operators-in-python\n",
    "\n",
    "https://docs.python.org/3/tutorial/controlflow.html\n",
    "\n",
    "https://www.tutorialspoint.com/python/string_len.htm\n",
    "\n",
    "https://stackoverflow.com/questions/3751900/create-file-path-from-variables\n",
    "\n",
    "https://stackoverflow.com/questions/7696924/way-to-create-multiline-comments-in-python\n",
    "\n",
    "https://docs.python.org/2/tutorial/datastructures.html\n",
    "\n",
    "https://stackoverflow.com/questions/273192/how-can-i-create-a-directory-if-it-does-not-exist\n",
    "\n",
    "https://stackoverflow.com/questions/5676646/how-can-i-fill-out-a-python-string-with-spaces\n",
    "\n",
    "\n",
    "### Read more\n",
    "\n",
    "https://stackoverflow.com/questions/10140281/how-to-find-out-whether-a-file-is-at-its-eof\n",
    "\n",
    "https://stackoverflow.com/questions/9905874/python-does-not-read-entire-text-file\n",
    "\n",
    "https://stackoverflow.com/questions/40198581/python-not-reading-entire-file"
   ]
  }
 ],
 "metadata": {
  "kernelspec": {
   "display_name": "Python (py27)",
   "language": "python",
   "name": "py27"
  },
  "language_info": {
   "codemirror_mode": {
    "name": "ipython",
    "version": 2
   },
   "file_extension": ".py",
   "mimetype": "text/x-python",
   "name": "python",
   "nbconvert_exporter": "python",
   "pygments_lexer": "ipython2",
   "version": "2.7.13"
  }
 },
 "nbformat": 4,
 "nbformat_minor": 2
}
